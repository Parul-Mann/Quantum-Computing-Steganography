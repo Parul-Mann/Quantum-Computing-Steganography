{
  "nbformat": 4,
  "nbformat_minor": 0,
  "metadata": {
    "colab": {
      "provenance": [],
      "include_colab_link": true
    },
    "kernelspec": {
      "name": "python3",
      "display_name": "Python 3"
    },
    "language_info": {
      "name": "python"
    }
  },
  "cells": [
    {
      "cell_type": "markdown",
      "metadata": {
        "id": "view-in-github",
        "colab_type": "text"
      },
      "source": [
        "<a href=\"https://colab.research.google.com/github/Parul-Mann/Quantum-Computing-Steganography/blob/main/Quantum_Steganography.ipynb\" target=\"_parent\"><img src=\"https://colab.research.google.com/assets/colab-badge.svg\" alt=\"Open In Colab\"/></a>"
      ]
    },
    {
      "cell_type": "markdown",
      "source": [
        "# **Quantum Steganography**\n",
        "\n",
        "Quantum steganography is the art of secretly transmitting quantum information while disguising the fact that any secret communication is taking place.\n",
        "\n",
        "This Python script demonstrates the concept of hiding a binary message within a quantum circuit using superposition and entanglement.\n",
        "\n",
        "\n",
        "**Overview**\n",
        "\n",
        "The script allows users to:\n",
        "\n",
        "1. Enter a binary message they want to hide.\n",
        "2. Specify the length of the quantum carrier circuit.\n",
        "3. Encode the message into the carrier circuit by applying quantum gates.\n",
        "4. Simulate the carrier circuit to obtain measurement outcomes.\n",
        "5. Extract the hidden message from the measurement outcomes.\n",
        "\n",
        "\n",
        "**How It Works:**\n",
        "\n",
        "1. Message Encoding: The input binary message is encoded into a quantum circuit by applying Hadamard gates for superposition and CNOT gates for entanglement.\n",
        "2. Simulation: The encoded quantum circuit is simulated using the Qiskit Aer simulator to obtain measurement outcomes.\n",
        "3. Message Extraction: The most probable outcome is selected, representing the hidden message.\n"
      ],
      "metadata": {
        "id": "dmH95373Cb_J"
      }
    },
    {
      "cell_type": "code",
      "source": [
        "!pip install qiskit"
      ],
      "metadata": {
        "colab": {
          "base_uri": "https://localhost:8080/"
        },
        "id": "hiOzeTj1gX9W",
        "outputId": "3d1e1bdd-732a-4075-8374-c419f85a7566"
      },
      "execution_count": null,
      "outputs": [
        {
          "output_type": "stream",
          "name": "stdout",
          "text": [
            "Collecting qiskit\n",
            "  Downloading qiskit-1.0.2-cp38-abi3-manylinux_2_17_x86_64.manylinux2014_x86_64.whl (5.6 MB)\n",
            "\u001b[2K     \u001b[90m━━━━━━━━━━━━━━━━━━━━━━━━━━━━━━━━━━━━━━━━\u001b[0m \u001b[32m5.6/5.6 MB\u001b[0m \u001b[31m12.5 MB/s\u001b[0m eta \u001b[36m0:00:00\u001b[0m\n",
            "\u001b[?25hCollecting rustworkx>=0.14.0 (from qiskit)\n",
            "  Downloading rustworkx-0.14.2-cp310-cp310-manylinux_2_17_x86_64.manylinux2014_x86_64.whl (2.1 MB)\n",
            "\u001b[2K     \u001b[90m━━━━━━━━━━━━━━━━━━━━━━━━━━━━━━━━━━━━━━━━\u001b[0m \u001b[32m2.1/2.1 MB\u001b[0m \u001b[31m23.3 MB/s\u001b[0m eta \u001b[36m0:00:00\u001b[0m\n",
            "\u001b[?25hRequirement already satisfied: numpy<2,>=1.17 in /usr/local/lib/python3.10/dist-packages (from qiskit) (1.25.2)\n",
            "Requirement already satisfied: scipy>=1.5 in /usr/local/lib/python3.10/dist-packages (from qiskit) (1.11.4)\n",
            "Requirement already satisfied: sympy>=1.3 in /usr/local/lib/python3.10/dist-packages (from qiskit) (1.12)\n",
            "Collecting dill>=0.3 (from qiskit)\n",
            "  Downloading dill-0.3.8-py3-none-any.whl (116 kB)\n",
            "\u001b[2K     \u001b[90m━━━━━━━━━━━━━━━━━━━━━━━━━━━━━━━━━━━━━━━━\u001b[0m \u001b[32m116.3/116.3 kB\u001b[0m \u001b[31m7.5 MB/s\u001b[0m eta \u001b[36m0:00:00\u001b[0m\n",
            "\u001b[?25hRequirement already satisfied: python-dateutil>=2.8.0 in /usr/local/lib/python3.10/dist-packages (from qiskit) (2.8.2)\n",
            "Collecting stevedore>=3.0.0 (from qiskit)\n",
            "  Downloading stevedore-5.2.0-py3-none-any.whl (49 kB)\n",
            "\u001b[2K     \u001b[90m━━━━━━━━━━━━━━━━━━━━━━━━━━━━━━━━━━━━━━━━\u001b[0m \u001b[32m49.7/49.7 kB\u001b[0m \u001b[31m3.0 MB/s\u001b[0m eta \u001b[36m0:00:00\u001b[0m\n",
            "\u001b[?25hRequirement already satisfied: typing-extensions in /usr/local/lib/python3.10/dist-packages (from qiskit) (4.11.0)\n",
            "Collecting symengine>=0.11 (from qiskit)\n",
            "  Downloading symengine-0.11.0-cp310-cp310-manylinux_2_12_x86_64.manylinux2010_x86_64.whl (39.4 MB)\n",
            "\u001b[2K     \u001b[90m━━━━━━━━━━━━━━━━━━━━━━━━━━━━━━━━━━━━━━━━\u001b[0m \u001b[32m39.4/39.4 MB\u001b[0m \u001b[31m12.2 MB/s\u001b[0m eta \u001b[36m0:00:00\u001b[0m\n",
            "\u001b[?25hRequirement already satisfied: six>=1.5 in /usr/local/lib/python3.10/dist-packages (from python-dateutil>=2.8.0->qiskit) (1.16.0)\n",
            "Collecting pbr!=2.1.0,>=2.0.0 (from stevedore>=3.0.0->qiskit)\n",
            "  Downloading pbr-6.0.0-py2.py3-none-any.whl (107 kB)\n",
            "\u001b[2K     \u001b[90m━━━━━━━━━━━━━━━━━━━━━━━━━━━━━━━━━━━━━━━━\u001b[0m \u001b[32m107.5/107.5 kB\u001b[0m \u001b[31m7.4 MB/s\u001b[0m eta \u001b[36m0:00:00\u001b[0m\n",
            "\u001b[?25hRequirement already satisfied: mpmath>=0.19 in /usr/local/lib/python3.10/dist-packages (from sympy>=1.3->qiskit) (1.3.0)\n",
            "Installing collected packages: symengine, rustworkx, pbr, dill, stevedore, qiskit\n",
            "Successfully installed dill-0.3.8 pbr-6.0.0 qiskit-1.0.2 rustworkx-0.14.2 stevedore-5.2.0 symengine-0.11.0\n"
          ]
        }
      ]
    },
    {
      "cell_type": "code",
      "source": [
        "!pip install qiskit_aer"
      ],
      "metadata": {
        "colab": {
          "base_uri": "https://localhost:8080/"
        },
        "id": "oBd-rWgZgf7V",
        "outputId": "a1c6d5a9-73d0-4eb0-c81a-f166a687fe5c"
      },
      "execution_count": null,
      "outputs": [
        {
          "output_type": "stream",
          "name": "stdout",
          "text": [
            "Collecting qiskit_aer\n",
            "  Downloading qiskit_aer-0.14.0.1-cp310-cp310-manylinux_2_17_x86_64.manylinux2014_x86_64.whl (12.4 MB)\n",
            "\u001b[2K     \u001b[90m━━━━━━━━━━━━━━━━━━━━━━━━━━━━━━━━━━━━━━━━\u001b[0m \u001b[32m12.4/12.4 MB\u001b[0m \u001b[31m20.2 MB/s\u001b[0m eta \u001b[36m0:00:00\u001b[0m\n",
            "\u001b[?25hRequirement already satisfied: qiskit>=0.45.0 in /usr/local/lib/python3.10/dist-packages (from qiskit_aer) (1.0.2)\n",
            "Requirement already satisfied: numpy>=1.16.3 in /usr/local/lib/python3.10/dist-packages (from qiskit_aer) (1.25.2)\n",
            "Requirement already satisfied: scipy>=1.0 in /usr/local/lib/python3.10/dist-packages (from qiskit_aer) (1.11.4)\n",
            "Requirement already satisfied: psutil>=5 in /usr/local/lib/python3.10/dist-packages (from qiskit_aer) (5.9.5)\n",
            "Requirement already satisfied: rustworkx>=0.14.0 in /usr/local/lib/python3.10/dist-packages (from qiskit>=0.45.0->qiskit_aer) (0.14.2)\n",
            "Requirement already satisfied: sympy>=1.3 in /usr/local/lib/python3.10/dist-packages (from qiskit>=0.45.0->qiskit_aer) (1.12)\n",
            "Requirement already satisfied: dill>=0.3 in /usr/local/lib/python3.10/dist-packages (from qiskit>=0.45.0->qiskit_aer) (0.3.8)\n",
            "Requirement already satisfied: python-dateutil>=2.8.0 in /usr/local/lib/python3.10/dist-packages (from qiskit>=0.45.0->qiskit_aer) (2.8.2)\n",
            "Requirement already satisfied: stevedore>=3.0.0 in /usr/local/lib/python3.10/dist-packages (from qiskit>=0.45.0->qiskit_aer) (5.2.0)\n",
            "Requirement already satisfied: typing-extensions in /usr/local/lib/python3.10/dist-packages (from qiskit>=0.45.0->qiskit_aer) (4.11.0)\n",
            "Requirement already satisfied: symengine>=0.11 in /usr/local/lib/python3.10/dist-packages (from qiskit>=0.45.0->qiskit_aer) (0.11.0)\n",
            "Requirement already satisfied: six>=1.5 in /usr/local/lib/python3.10/dist-packages (from python-dateutil>=2.8.0->qiskit>=0.45.0->qiskit_aer) (1.16.0)\n",
            "Requirement already satisfied: pbr!=2.1.0,>=2.0.0 in /usr/local/lib/python3.10/dist-packages (from stevedore>=3.0.0->qiskit>=0.45.0->qiskit_aer) (6.0.0)\n",
            "Requirement already satisfied: mpmath>=0.19 in /usr/local/lib/python3.10/dist-packages (from sympy>=1.3->qiskit>=0.45.0->qiskit_aer) (1.3.0)\n",
            "Installing collected packages: qiskit_aer\n",
            "Successfully installed qiskit_aer-0.14.0.1\n"
          ]
        }
      ]
    },
    {
      "cell_type": "markdown",
      "source": [
        "#Implementation"
      ],
      "metadata": {
        "id": "QmSXSaWCosMw"
      }
    },
    {
      "cell_type": "markdown",
      "source": [
        "Import files"
      ],
      "metadata": {
        "id": "l84ntrSCovDB"
      }
    },
    {
      "cell_type": "code",
      "source": [
        "from qiskit import QuantumCircuit, transpile, assemble\n",
        "from qiskit_aer import AerSimulator"
      ],
      "metadata": {
        "id": "oL7k1yM12gbF"
      },
      "execution_count": null,
      "outputs": []
    },
    {
      "cell_type": "markdown",
      "source": [
        "Function to encode a binary message into a quantum circuit"
      ],
      "metadata": {
        "id": "bNaU69ry2lox"
      }
    },
    {
      "cell_type": "markdown",
      "source": [
        "* We first apply Hadamard (H) gates to put the qubits into superposition.\n",
        "* We then introduce entanglement among the qubits by applying controlled-NOT (CNOT) gates between each pair of qubits.\n",
        "* Finally, we apply X gates based on the message to encode it into the quantum circuit.\n",
        "\n",
        "\n"
      ],
      "metadata": {
        "id": "XUglrK3tvPhl"
      }
    },
    {
      "cell_type": "code",
      "source": [
        "def encode_message(message, qc):\n",
        "    # Apply H gates to put qubits into superposition\n",
        "    for i in range(len(message)):\n",
        "        qc.h(i)\n",
        "\n",
        "    # Introduce entanglement among qubits\n",
        "    for i in range(len(message) - 1):\n",
        "        for j in range(i + 1, len(message)):\n",
        "            qc.cx(i, j)\n",
        "\n",
        "    # Apply X gates based on the message\n",
        "    for i, bit in enumerate(message):\n",
        "        if bit == '1':\n",
        "            qc.x(i)  # Flip the qubit to |1> if the bit is 1"
      ],
      "metadata": {
        "id": "_V3suxmO2j7f"
      },
      "execution_count": null,
      "outputs": []
    },
    {
      "cell_type": "markdown",
      "source": [
        "Function to decode a quantum measurement result into a binary message"
      ],
      "metadata": {
        "id": "6ItM6VhNHG5y"
      }
    },
    {
      "cell_type": "code",
      "source": [
        "def decode_message(counts):\n",
        "    # Extract the binary message from the measurement outcomes\n",
        "    encoded_message = max(counts.items(), key=lambda x: x[1])[0]\n",
        "    return encoded_message"
      ],
      "metadata": {
        "id": "MYNjpUrL2tbs"
      },
      "execution_count": null,
      "outputs": []
    },
    {
      "cell_type": "markdown",
      "source": [
        "Function to hide a quantum state (message) within another quantum state (carrier)"
      ],
      "metadata": {
        "id": "Cug_wmEgHKFp"
      }
    },
    {
      "cell_type": "code",
      "source": [
        "def hide_message(carrier, message):\n",
        "    qc = carrier.copy()\n",
        "    encode_message(message, qc)  # Encode the message into the least significant qubits\n",
        "    return qc"
      ],
      "metadata": {
        "id": "604F-d8h2vTb"
      },
      "execution_count": null,
      "outputs": []
    },
    {
      "cell_type": "markdown",
      "source": [
        "Function to extract the hidden message from a quantum state (carrier)\n"
      ],
      "metadata": {
        "id": "QIzHLHBoHT52"
      }
    },
    {
      "cell_type": "code",
      "source": [
        "def hidden_message(carrier):\n",
        "    qc = carrier.copy()\n",
        "    qc.measure_all()  # Measure all qubits\n",
        "    return qc"
      ],
      "metadata": {
        "id": "dGrabKbN2wwF"
      },
      "execution_count": null,
      "outputs": []
    },
    {
      "cell_type": "markdown",
      "source": [
        "Function to simulate the transpiled quantum circuit\n"
      ],
      "metadata": {
        "id": "DqkYJEGWHXj6"
      }
    },
    {
      "cell_type": "code",
      "source": [
        "def simulate_circuit(qc):\n",
        "    simulator = AerSimulator()\n",
        "    transpiled_qc = transpile(qc, simulator)\n",
        "    result = simulator.run(transpiled_qc).result()\n",
        "    counts = result.get_counts(qc)\n",
        "    return counts"
      ],
      "metadata": {
        "id": "F3_09Pbb2y2s"
      },
      "execution_count": null,
      "outputs": []
    },
    {
      "cell_type": "markdown",
      "source": [
        "# Implementation"
      ],
      "metadata": {
        "id": "hcL05x80Hthu"
      }
    },
    {
      "cell_type": "markdown",
      "source": [
        "Get user input for the message. The message is the secret information you want to transmit."
      ],
      "metadata": {
        "id": "m_3Ybs9eHc1c"
      }
    },
    {
      "cell_type": "code",
      "source": [
        "message = input(\"Enter the binary message you want to hide: \")"
      ],
      "metadata": {
        "colab": {
          "base_uri": "https://localhost:8080/"
        },
        "id": "HYhbpJzw208v",
        "outputId": "4685db21-7901-4a3e-af40-34bf5ab643e1"
      },
      "execution_count": null,
      "outputs": [
        {
          "name": "stdout",
          "output_type": "stream",
          "text": [
            "Enter the binary message you want to hide: 110011\n"
          ]
        }
      ]
    },
    {
      "cell_type": "markdown",
      "source": [
        "Define the carrier quantum circuit\n"
      ],
      "metadata": {
        "id": "r6cKHNKiHp66"
      }
    },
    {
      "cell_type": "code",
      "source": [
        "carrier_length = int(input(\"Enter the carrier length: \"))\n",
        "\n",
        "carrier_qc = QuantumCircuit(carrier_length)"
      ],
      "metadata": {
        "colab": {
          "base_uri": "https://localhost:8080/"
        },
        "id": "NP04fsf322sm",
        "outputId": "c6f8740c-3fbc-4e9a-bcaa-af5b240741d2"
      },
      "execution_count": null,
      "outputs": [
        {
          "name": "stdout",
          "output_type": "stream",
          "text": [
            "Enter the carrier length: 6\n"
          ]
        }
      ]
    },
    {
      "cell_type": "markdown",
      "source": [
        "Hide the message within the carrier\n"
      ],
      "metadata": {
        "id": "D_o80Y1iH1m0"
      }
    },
    {
      "cell_type": "code",
      "source": [
        "hidden_qc = hide_message(carrier_qc, message)"
      ],
      "metadata": {
        "id": "WUCX0gyb3RYO"
      },
      "execution_count": null,
      "outputs": []
    },
    {
      "cell_type": "markdown",
      "source": [
        "Extract the hidden message\n"
      ],
      "metadata": {
        "id": "P1AYoQb-H4js"
      }
    },
    {
      "cell_type": "code",
      "source": [
        "print(\"Hidden qc \\n\", hidden_qc)\n",
        "\n",
        "hidden_qc = hidden_message(hidden_qc)"
      ],
      "metadata": {
        "colab": {
          "base_uri": "https://localhost:8080/"
        },
        "id": "0q4jL9sk3XBX",
        "outputId": "ed8b4853-6c7b-42b2-ccd3-279c0c95a038"
      },
      "execution_count": null,
      "outputs": [
        {
          "output_type": "stream",
          "name": "stdout",
          "text": [
            "Hidden qc \n",
            "      ┌───┐                                   ┌───┐                         »\n",
            "q_0: ┤ H ├──■────■────■─────────■─────────■──┤ X ├─────────────────────────»\n",
            "     ├───┤┌─┴─┐  │    │         │         │  └───┘          ┌───┐          »\n",
            "q_1: ┤ H ├┤ X ├──┼────┼────■────┼────■────┼────■─────────■──┤ X ├──────────»\n",
            "     ├───┤└───┘┌─┴─┐  │  ┌─┴─┐  │    │    │    │         │  └───┘          »\n",
            "q_2: ┤ H ├─────┤ X ├──┼──┤ X ├──┼────┼────┼────┼────■────┼────■────■───────»\n",
            "     ├───┤     └───┘┌─┴─┐└───┘  │  ┌─┴─┐  │    │  ┌─┴─┐  │    │    │       »\n",
            "q_3: ┤ H ├──────────┤ X ├───────┼──┤ X ├──┼────┼──┤ X ├──┼────┼────┼────■──»\n",
            "     ├───┤          └───┘     ┌─┴─┐└───┘  │  ┌─┴─┐└───┘  │  ┌─┴─┐  │  ┌─┴─┐»\n",
            "q_4: ┤ H ├────────────────────┤ X ├───────┼──┤ X ├───────┼──┤ X ├──┼──┤ X ├»\n",
            "     ├───┤                    └───┘     ┌─┴─┐└───┘     ┌─┴─┐└───┘┌─┴─┐└───┘»\n",
            "q_5: ┤ H ├──────────────────────────────┤ X ├──────────┤ X ├─────┤ X ├─────»\n",
            "     └───┘                              └───┘          └───┘     └───┘     »\n",
            "«                    \n",
            "«q_0: ───────────────\n",
            "«                    \n",
            "«q_1: ───────────────\n",
            "«                    \n",
            "«q_2: ───────────────\n",
            "«                    \n",
            "«q_3: ──■────────────\n",
            "«       │       ┌───┐\n",
            "«q_4: ──┼────■──┤ X ├\n",
            "«     ┌─┴─┐┌─┴─┐├───┤\n",
            "«q_5: ┤ X ├┤ X ├┤ X ├\n",
            "«     └───┘└───┘└───┘\n"
          ]
        }
      ]
    },
    {
      "cell_type": "markdown",
      "source": [
        "\n",
        "Simulate the extracted quantum circuit\n"
      ],
      "metadata": {
        "id": "Kcg0j6mlH8XZ"
      }
    },
    {
      "cell_type": "code",
      "source": [
        "hidden_counts = simulate_circuit(hidden_qc)\n",
        "\n",
        "print(\"Counts:\", hidden_counts)"
      ],
      "metadata": {
        "colab": {
          "base_uri": "https://localhost:8080/"
        },
        "id": "OOQ113Ud3Xu-",
        "outputId": "bca56936-5510-4820-c3ec-200742c256f6"
      },
      "execution_count": null,
      "outputs": [
        {
          "output_type": "stream",
          "name": "stdout",
          "text": [
            "Counts: {'001000': 15, '010010': 16, '111010': 11, '100100': 16, '111100': 15, '011110': 18, '000000': 13, '010110': 8, '100010': 15, '111000': 14, '000010': 10, '110101': 21, '101010': 18, '101100': 15, '001111': 16, '000011': 6, '010000': 21, '100000': 16, '100110': 16, '101110': 18, '000100': 18, '100111': 14, '011011': 17, '011111': 16, '001101': 17, '011001': 11, '101000': 11, '100001': 17, '010101': 17, '011100': 18, '110010': 20, '011101': 16, '011010': 16, '000001': 23, '001001': 8, '000110': 20, '010001': 13, '111110': 17, '100101': 17, '101011': 16, '111111': 17, '111101': 18, '001100': 12, '000101': 12, '110011': 13, '000111': 19, '010011': 18, '110111': 17, '101001': 9, '101111': 17, '110100': 20, '001110': 23, '110000': 16, '010111': 13, '010100': 10, '001011': 11, '011000': 22, '111011': 16, '110001': 15, '101101': 17, '110110': 24, '100011': 27, '001010': 17, '111001': 21}\n"
          ]
        }
      ]
    },
    {
      "cell_type": "markdown",
      "source": [
        "Hidden message"
      ],
      "metadata": {
        "id": "eLUc05g1ICNL"
      }
    },
    {
      "cell_type": "code",
      "source": [
        "hidden_message = decode_message(hidden_counts)"
      ],
      "metadata": {
        "id": "w5ansFgN3ZWS"
      },
      "execution_count": null,
      "outputs": []
    },
    {
      "cell_type": "markdown",
      "source": [
        "Display original and hidden message"
      ],
      "metadata": {
        "id": "m9wsX1v4LXV4"
      }
    },
    {
      "cell_type": "code",
      "source": [
        "print(\"Original Message    :\", message)\n",
        "print(\"Hidden Message   :\", hidden_message)"
      ],
      "metadata": {
        "colab": {
          "base_uri": "https://localhost:8080/"
        },
        "id": "OAJ-Z7zTLQle",
        "outputId": "7f797f56-8810-4eba-86cf-a75e4dd898c7"
      },
      "execution_count": null,
      "outputs": [
        {
          "output_type": "stream",
          "name": "stdout",
          "text": [
            "Original Message    : 110011\n",
            "Hidden Message   : 100011\n"
          ]
        }
      ]
    }
  ]
}